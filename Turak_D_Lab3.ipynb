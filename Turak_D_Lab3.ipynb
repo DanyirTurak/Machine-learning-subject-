{
 "cells": [
  {
   "cell_type": "code",
   "execution_count": null,
   "metadata": {
    "collapsed": true
   },
   "outputs": [],
   "source": [
    "from pyDatalog import pyDatalog\n",
    "import logging\n",
    "from pyDatalog import pyEngine\n",
    "pyEngine.Logging = False\n",
    "logging.basicConfig(level=logging.INFO)\n",
    "pyDatalog.create_terms('link, can_reach,X,Y,Z')\n",
    "+link(1,2)\n",
    "+link(2,3)\n",
    "+link(2,4)\n",
    "+link(2,5)\n",
    "+link(5,6)\n",
    "+link(6,7)\n",
    "+link(7,2)\n",
    "link(X,Y) <= link(Y,X)\n",
    "can_reach(X,Y) <= link(X,Y)\n",
    "can_reach(X,Y) <= link(X,Z) & can_reach(Z,Y) & (X!=Y)\n",
    "print (can_reach(Y,3))"
   ]
  },
  {
   "cell_type": "code",
   "execution_count": null,
   "metadata": {
    "collapsed": true
   },
   "outputs": [],
   "source": [
    "from sqlalchemy.ext.declarative import declarative_base\n",
    "from sqlalchemy import create_engine\n",
    "from sqlalchemy.orm import sessionmaker\n",
    "from sqlalchemy import Column, Integer, String, ForeignKey\n",
    "from ipywidgets import interact_manual\n",
    "\n",
    "Base = declarative_base(cls=pyDatalog.Mixin, metaclass=pyDatalog.sqlMetaMixin)\n",
    "engine = create_engine('sqlite:///:memory:', echo=False)\n",
    "\n",
    "Session = sessionmaker(bind=engine)\n",
    "session = Session()\n",
    "Base.session = session\n",
    "\n",
    "class Person(Base): \n",
    "    __tablename__ = 'person'\n",
    "\n",
    "    name = Column(String, primary_key=True)\n",
    "    def __init__(self, name): \n",
    "        super(Person, self).__init__()\n",
    "        self.name = name\n",
    "    \n",
    "    def __repr__(self):\n",
    "        return self.name\n",
    "    \n",
    "Base.metadata.create_all(engine)\n",
    "pyDatalog.create_terms('married, bros, a, c, p, X, Y, Z, K')\n",
    "\n",
    "married(X,Y) <= married(Y,X)\n",
    "a(X, Y) <= p(X, Y)\n",
    "a(X, Y) <= p(X, Z) & a(Z, Y)\n",
    "+p('parent', 'child')\n",
    "\n",
    "\n",
    "bros(X, Y) <= p(Z, X) & p(Z, Y)\n",
    "married(X,Y) <= p(X,Z) & p(Y,Z) & (X!=Y) & ~bros(X, Y)# c(Z, X) & c(Z, Y) & (X != Y)\n",
    "\n",
    "persons = []\n",
    "def add_person(name):\n",
    "    for person in persons:\n",
    "        if person.name == name:\n",
    "            return person\n",
    "    print(\"Created \" + name)\n",
    "    result = Person(name)\n",
    "    persons.append(result)\n",
    "    return result\n",
    "\n",
    "@interact_manual\n",
    "def get_input(parent='', child=''):\n",
    "    person1 = add_person(parent)\n",
    "    person2 = add_person(child)\n",
    "    if person1 != person2 and not [item for item in p(X,Y) if item[0] == person2 and item[1] == person1] \\\n",
    "        and not [item for item in a(X,Y) if item[0] == person2 and item[1] == person1] \\\n",
    "        and not [item for item in a(X,Y) if item[0] == person1 and item[1] == person2] \\\n",
    "        and not [item for item in (p(Z,X) & p(Z,Y) & (X!=Y)) if item[1] == person1 and item[2] == person2]:\n",
    "        +p(person1, person2)\n",
    "    print(married(X,Y))\n"
   ]
  }
 ],
 "metadata": {
  "kernelspec": {
   "display_name": "Python 3",
   "language": "python",
   "name": "python3"
  },
  "language_info": {
   "codemirror_mode": {
    "name": "ipython",
    "version": 3
   },
   "file_extension": ".py",
   "mimetype": "text/x-python",
   "name": "python",
   "nbconvert_exporter": "python",
   "pygments_lexer": "ipython3",
   "version": "3.6.3"
  }
 },
 "nbformat": 4,
 "nbformat_minor": 2
}
