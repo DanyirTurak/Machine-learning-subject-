{
 "cells": [
  {
   "cell_type": "code",
   "execution_count": null,
   "metadata": {},
   "outputs": [],
   "source": [
    "while(True): \n",
    "    a1 = [] \n",
    "    summa = 0 \n",
    "    t1 = int(input())  # \n",
    "    l = int(input()) # len(array)\n",
    "    for i1 in range(l): \n",
    "        e = int(input()) \n",
    "        a1.append(e) \n",
    "        a1.sort(reverse=True) \n",
    "    for j1 in range(t1): \n",
    "        summa = summa + a1[j1] \n",
    "print(\"Our sum is:\") \n",
    "print(summa)\n"
   ]
  },
  {
   "cell_type": "code",
   "execution_count": null,
   "metadata": {
    "collapsed": true
   },
   "outputs": [],
   "source": []
  }
 ],
 "metadata": {
  "kernelspec": {
   "display_name": "Python 3",
   "language": "python",
   "name": "python3"
  },
  "language_info": {
   "codemirror_mode": {
    "name": "ipython",
    "version": 3
   },
   "file_extension": ".py",
   "mimetype": "text/x-python",
   "name": "python",
   "nbconvert_exporter": "python",
   "pygments_lexer": "ipython3",
   "version": "3.6.3"
  }
 },
 "nbformat": 4,
 "nbformat_minor": 2
}
