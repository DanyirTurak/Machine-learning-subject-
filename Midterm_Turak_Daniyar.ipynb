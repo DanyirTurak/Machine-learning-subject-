{
 "cells": [
  {
   "cell_type": "markdown",
   "metadata": {},
   "source": [
    "# MidTerm 1 - ML; KBTU"
   ]
  },
  {
   "cell_type": "markdown",
   "metadata": {},
   "source": [
    "### О задании\n",
    "\n",
    "__Первая часть__ задания посвящена получению студентами навыков работы с библиотекой векторного вычисления numpy и библиотеками для построения графиков matplotlib/plotly. \n",
    "\n",
    "__Вторая часть__ задания посвящена работе с данными: их преобразованию в нужный формат и устранению проблем в них.\n",
    "\n",
    "\n",
    "### Оценивание и штрафы\n",
    "Каждая из задач имеет определенную «стоимость» (указана в скобках около задачи). Максимально допустимая оценка за работу — 10 баллов.\n",
    "\n",
    "Задание выполняется самостоятельно. «Похожие» решения считаются плагиатом и все задействованные студенты (в том числе те, у кого списали) не могут получить за него больше 0 баллов. Если вы нашли решение какого-то из заданий (или его часть) в открытом источнике, необходимо указать ссылку на этот источник в отдельном блоке в конце Вашей работы (скорее всего вы будете не единственным, кто это нашел, поэтому чтобы исключить подозрение в плагиате, необходима ссылка на источник).\n",
    "\n",
    "Неэффективная реализация кода может негативно отразиться на оценке.\n",
    "\n",
    "\n",
    "### Формат сдачи\n",
    "Для сдачи задания переименуйте получившийся файл *.ipynb в соответствии со следующим форматом: Midterm-Username.ipynb, где Username — Ваша фамилия и имя на латинице именно в таком порядке. Приложите модули с кодом functions.py и functions_vectorized.py и заархивируйте в zip формат. Имя архива должно быть homework-practice-01-Username.zip\n",
    "\n",
    "Далее отправьте этот файл на aa.pak83@gmail.com.\n",
    "\n",
    "\n",
    "Для удобства проверки самостоятельно посчитайте свою максимальную оценку (исходя из набора решенных задач) и укажите ниже."
   ]
  },
  {
   "cell_type": "markdown",
   "metadata": {},
   "source": [
    "**Оценка:** ..."
   ]
  },
  {
   "cell_type": "markdown",
   "metadata": {},
   "source": [
    "## Часть 1\n",
    "\n",
    "_Задачи позаимствованы из курса практикума кафедры ММП факультета ВМК МГУ_"
   ]
  },
  {
   "cell_type": "markdown",
   "metadata": {},
   "source": [
    "### Задачи 1-6\n",
    "__(4.5 балла)__\n",
    "\n",
    "Ниже приведены задачи на работу с numpy-массивами. Для каждой из задач нужно привести 2 реализации: одна без использования numpy (cчитайте, что там, где на входе или выходе должны быть numpy array, будут просто списки), а вторая полностью векторизованная (без использования питоновских циклов/map/list comprehension). Невекторизованная реализация каждой из задач оценивается в __0.25 балла__, векторизованная – в __0.5 балла__.\n",
    "\n",
    "Для удобства проверки приложите в ячейке ниже ссылки на самые успешные посылки.\n",
    "\n",
    "\n",
    "* __Задача 1__: Подсчитать произведение ненулевых элементов на диагонали прямоугольной матрицы.  \n",
    " Например, для X = np.array([[1, 0, 1], [2, 0, 2], [3, 0, 3], [4, 4, 4]]) ответ – 3.\n",
    " \n",
    " \n",
    "* __Задача 2__: Даны два вектора x и y. Проверить, задают ли они одно и то же мультимножество.  \n",
    "  Например, для x = np.array([1, 2, 2, 4]), y = np.array([4, 2, 1, 2]) ответ – True.\n",
    "  \n",
    "  \n",
    "* __Задача 3__: Найти максимальный элемент в векторе x среди элементов, перед которыми стоит нулевой.  \n",
    " Например, для x = np.array([6, 2, 0, 3, 0, 0, 5, 7, 0]) ответ – 5.\n",
    " \n",
    " \n",
    "* __ Задача 4__: Дан трёхмерный массив, содержащий изображение, размера (height, width, numChannels), а также вектор длины numChannels. Сложить каналы изображения с указанными весами, и вернуть результат в виде матрицы размера (height, width). В ноутбуке приведите пример работы функции – преобразуйте цветное изображение в оттенки серого, использовав коэффициенты np.array([0.299, 0.587, 0.114]). Считать реальное изображение можно при помощи функции scipy.misc.imread (если изображение не в формате png, установите пакет pillow).\n",
    "\n",
    "\n",
    "* __Задача 5__: Реализовать кодирование длин серий (Run-length encoding). Для некоторого вектора x необходимо вернуть кортеж из двух векторов одинаковой длины. Первый содержит числа, а второй - сколько раз их нужно повторить.  \n",
    " Например, для x = np.array([2, 2, 2, 3, 3, 3, 5]) ответ – (np.array([2, 3, 5]), np.array([3, 3, 1])).\n",
    " \n",
    " \n",
    "* __Задача 6__: Даны две выборки объектов - X и Y. Вычислить матрицу евклидовых расстояний между объектами. Сравните с функцией scipy.spatial.distance.cdist по скорости работы (сравнения приведите ниже в ноутбуке).\n",
    "\n",
    "__Замечание.__ Можно считать, что все указанные объекты непустые (к примеру, в __задаче 1__ на диагонали матрицы есть ненулевые элементы) и корректные."
   ]
  },
  {
   "cell_type": "code",
   "execution_count": 1,
   "metadata": {},
   "outputs": [
    {
     "name": "stdout",
     "output_type": "stream",
     "text": [
      "3\n"
     ]
    }
   ],
   "source": [
    "#Part 1, task1, without np\n",
    "\n",
    "arr = []\n",
    "res = 1\n",
    "x = [[1, 0, 1],[2, 0, 2],[3, 0, 3],[4, 4, 4]]\n",
    "for i in range(len(x)):\n",
    "    for j in range(len(x[i])):\n",
    "        if x[i][j] == 0:\n",
    "            x[i][j] = 1\n",
    "for i in range(len(x)):\n",
    "    for j in range(len(x[i])):\n",
    "        if i == j:\n",
    "            arr.append(x[i][j])\n",
    "\n",
    "for i in range(len(arr)):\n",
    "    res = arr[i]\n",
    "    \n",
    "print(res)"
   ]
  },
  {
   "cell_type": "code",
   "execution_count": 2,
   "metadata": {},
   "outputs": [
    {
     "name": "stdout",
     "output_type": "stream",
     "text": [
      "3\n"
     ]
    }
   ],
   "source": [
    "#Part 1, task1, with np\n",
    "import numpy as np\n",
    "x = np.array([[1, 0, 1],[2, 0, 2],[3, 0, 3],[4, 4, 4]])\n",
    "diag = x.diagonal()\n",
    "diag_no_0 = diag[diag != 0]\n",
    "mult = np.multiply.reduce(diag_no_0)\n",
    "print(mult)\n",
    "#http://www.cyberforum.ru/python/thread1344307.html"
   ]
  },
  {
   "cell_type": "code",
   "execution_count": 3,
   "metadata": {},
   "outputs": [
    {
     "name": "stdout",
     "output_type": "stream",
     "text": [
      "True\n"
     ]
    }
   ],
   "source": [
    "#Part 1, task2, without np\n",
    "x = [1,2,4,1]\n",
    "y = [4,2,1,1]\n",
    "resX = 1\n",
    "resY = 1\n",
    "for idx, num in enumerate(x):\n",
    "    resX = resX*num\n",
    "    \n",
    "for idx, num in enumerate(y):\n",
    "    resY = resY*num\n",
    "\n",
    "if resX == resY:\n",
    "    print(True)\n",
    "elif resX != resY:\n",
    "    print(False)"
   ]
  },
  {
   "cell_type": "code",
   "execution_count": 4,
   "metadata": {},
   "outputs": [
    {
     "name": "stdout",
     "output_type": "stream",
     "text": [
      "True\n"
     ]
    }
   ],
   "source": [
    "#Part 1, task2 , with np\n",
    "import numpy as np\n",
    "x = np.array([1,2,4,1])\n",
    "y = np.array([4,2,1,1])\n",
    "\n",
    "if np.prod(x) == np.prod(y):\n",
    "    print(True)\n",
    "elif np.prod(x) != np.prod(y):\n",
    "    print(False)\n",
    "\n",
    "# Posmotrel funct v http://qaru.site/questions/61625/how-can-i-multiply-all-items-in-a-list-together-with-python"
   ]
  },
  {
   "cell_type": "code",
   "execution_count": 5,
   "metadata": {},
   "outputs": [
    {
     "name": "stdout",
     "output_type": "stream",
     "text": [
      "8\n"
     ]
    }
   ],
   "source": [
    "#Part1, Task3, with np\n",
    "import numpy as np\n",
    "x = np.array([7, 0, 8, 11, 0, 4])\n",
    "zero = x==0\n",
    "print(x[1:][zero[:-1]].max())\n",
    "#http://www.cyberforum.ru/python/thread1659360.html"
   ]
  },
  {
   "cell_type": "code",
   "execution_count": 6,
   "metadata": {},
   "outputs": [
    {
     "name": "stdout",
     "output_type": "stream",
     "text": [
      "6\n"
     ]
    }
   ],
   "source": [
    "#Part 1, task3, without np\n",
    "array = [2, 4, 0, 6, 0, 1, 5, 1, 9]\n",
    "array2 = []\n",
    "ind = -10\n",
    "for idx, num in enumerate(array):\n",
    "    if num == 0:\n",
    "        ind = idx\n",
    "    if idx == ind + 1:\n",
    "        array2.append(num)\n",
    "        \n",
    "print(max(array2))"
   ]
  },
  {
   "cell_type": "code",
   "execution_count": 7,
   "metadata": {},
   "outputs": [
    {
     "data": {
      "text/plain": [
       "array([3, 3, 1], dtype=int64)"
      ]
     },
     "execution_count": 7,
     "metadata": {},
     "output_type": "execute_result"
    }
   ],
   "source": [
    "#Part 1, task5, with np\n",
    "import numpy as np\n",
    "\n",
    "def rle(inarray):\n",
    "        \n",
    "        ia = np.asarray(inarray)                  # force numpy\n",
    "        n = len(ia)\n",
    "        if n == 0: \n",
    "            return (None, None, None)\n",
    "        else:\n",
    "            y = np.array(ia[1:] != ia[:-1])     # pairwise unequal (string safe)\n",
    "            i = np.append(np.where(y), n - 1)   # must include last element posi\n",
    "            z = np.diff(np.append(-1, i))       # run lengths\n",
    "            p = np.cumsum(np.append(0, z))[:-1] # positions\n",
    "            return(z)\n",
    "x = np.array([2, 2, 2, 3, 3, 3, 5])\n",
    "rle(x)\n",
    "#https://stackoverflow.com/questions/1066758/find-length-of-sequences-of-identical-values-in-a-numpy-array-run-length-encodi"
   ]
  },
  {
   "cell_type": "code",
   "execution_count": null,
   "metadata": {},
   "outputs": [],
   "source": []
  },
  {
   "cell_type": "markdown",
   "metadata": {},
   "source": [
    "Посылка по невекторизованным функциям: ...\n",
    "\n",
    "Посылка по векторизованным функциям: ..."
   ]
  },
  {
   "cell_type": "code",
   "execution_count": 9,
   "metadata": {
    "collapsed": true
   },
   "outputs": [],
   "source": [
    "#Задача 7"
   ]
  },
  {
   "cell_type": "code",
   "execution_count": 10,
   "metadata": {},
   "outputs": [
    {
     "name": "stderr",
     "output_type": "stream",
     "text": [
      "C:\\Users\\Lenovo\\Anaconda3\\lib\\site-packages\\matplotlib\\figure.py:418: UserWarning: matplotlib is currently using a non-GUI backend, so cannot show the figure\n",
      "  \"matplotlib is currently using a non-GUI backend, \"\n"
     ]
    },
    {
     "data": {
      "image/png": "[encoded data removed]",
      "text/plain": [
       "<matplotlib.figure.Figure at 0x29ce0b3c518>"
      ]
     },
     "metadata": {},
     "output_type": "display_data"
    }
   ],
   "source": [
    "import matplotlib.pyplot as plt\n",
    "import numpy as np\n",
    "\n",
    "%matplotlib inline\n",
    "\n",
    "data_size = np.array([10, 30, 70, 120])\n",
    "time_non_vectorized = data_size ** 2 + 10\n",
    "time_vectorized = data_size ** 1.5\n",
    "\n",
    "f, (ax1, ax2) = plt.subplots(1, 2, figsize=(13, 5))\n",
    "\n",
    "ax1.plot(data_size, time_non_vectorized)\n",
    "ax1.plot(data_size, time_vectorized)\n",
    "ax1.set_title(u\"Плохой график\")\n",
    "ax1.set_xlabel(u\"Размер данных\")\n",
    "ax1.set_ylabel(u\"Время\")\n",
    "\n",
    "ax2.plot(data_size, time_non_vectorized, label=u\"Невекторизованная\")\n",
    "ax2.plot(data_size, time_vectorized, label=u\"Векторизованная\")\n",
    "ax2.set_title(u\"Хороший график\")\n",
    "ax2.set_xlabel(u\"Длина массива\")\n",
    "ax2.set_ylabel(u\"Время (с)\")\n",
    "ax2.grid()\n",
    "ax2.legend()\n",
    "\n",
    "f.show()              "
   ]
  },
  {
   "cell_type": "code",
   "execution_count": 26,
   "metadata": {},
   "outputs": [
    {
     "name": "stderr",
     "output_type": "stream",
     "text": [
      "C:\\Users\\Lenovo\\Anaconda3\\lib\\site-packages\\matplotlib\\figure.py:418: UserWarning: matplotlib is currently using a non-GUI backend, so cannot show the figure\n",
      "  \"matplotlib is currently using a non-GUI backend, \"\n"
     ]
    },
    {
     "data": {
      "image/png": "[encoded data removed]",
      "text/plain": [
       "<matplotlib.figure.Figure at 0x29ce7a638d0>"
      ]
     },
     "metadata": {},
     "output_type": "display_data"
    },
    {
     "data": {
      "image/png": "[encoded data removed]",
      "text/plain": [
       "<matplotlib.figure.Figure at 0x29ce7a4c438>"
      ]
     },
     "metadata": {},
     "output_type": "display_data"
    }
   ],
   "source": [
    "# Your code here\n",
    "# ...\n",
    "import matplotlib.pyplot as plt\n",
    "import numpy as np\n",
    "\n",
    "%matplotlib inline\n",
    "data_size1 = np.array([[1, 0, 1],[2, 0, 2],[3, 0, 3],[4, 4, 4]])\n",
    "data_size2 = np.array([1,2,4,1])\n",
    "data_size3 = np.array([7, 0, 8, 11, 0, 4])\n",
    "data_size5 = np.array([2, 2, 2, 3, 3, 3, 5])\n",
    "\n",
    "time_non_vectorized1 = data_size1 ** 2 + 10\n",
    "time_vectorized1 = data_size1 ** 1.5\n",
    "\n",
    "time_non_vectorized2 = data_size2 ** 2 + 10\n",
    "time_vectorized2 = data_size2 ** 1.5\n",
    "\n",
    "time_non_vectorized3 = data_size3 ** 2 + 10\n",
    "time_vectorized3 = data_size3 ** 1.5\n",
    "\n",
    "time_non_vectorized5 = data_size5 ** 2 + 10\n",
    "time_vectorized5 = data_size5 ** 1.5\n",
    "\n",
    "f, (ax1, ax2) = plt.subplots(1, 2, figsize=(13, 5))\n",
    "f2, (ax3, ax4) = plt.subplots(1, 2, figsize=(13, 5))\n",
    "\n",
    "ax1.plot(data_size1, time_non_vectorized1, label=u\"Невекторизованная\")\n",
    "ax1.plot(data_size1, time_vectorized1, label=u\"Векторизованная\")\n",
    "ax1.set_title(u\"Хороший график\")\n",
    "ax1.set_xlabel(u\"Длина массива\")\n",
    "ax1.set_ylabel(u\"Время (с)\")\n",
    "ax1.grid()\n",
    "ax1.legend()\n",
    "\n",
    "ax2.plot(data_size2, time_non_vectorized2, label=u\"Невекторизованная\")\n",
    "ax2.plot(data_size2, time_vectorized2, label=u\"Векторизованная\")\n",
    "ax2.set_title(u\"Хороший график\")\n",
    "ax2.set_xlabel(u\"Длина массива\")\n",
    "ax2.set_ylabel(u\"Время (с)\")\n",
    "ax2.grid()\n",
    "ax2.legend()\n",
    "\n",
    "ax3.plot(data_size3, time_non_vectorized3, label=u\"Невекторизованная\")\n",
    "ax3.plot(data_size3, time_vectorized3, label=u\"Векторизованная\")\n",
    "ax3.set_title(u\"Хороший график\")\n",
    "ax3.set_xlabel(u\"Длина массива\")\n",
    "ax3.set_ylabel(u\"Время (с)\")\n",
    "ax3.grid()\n",
    "ax3.legend()\n",
    "\n",
    "ax4.plot(data_size5, time_non_vectorized5, label=u\"Невекторизованная\")\n",
    "ax4.plot(data_size5, time_vectorized5, label=u\"Векторизованная\")\n",
    "ax4.set_title(u\"Хороший график\")\n",
    "ax4.set_xlabel(u\"Длина массива\")\n",
    "ax4.set_ylabel(u\"Время (с)\")\n",
    "ax4.grid()\n",
    "ax4.legend()\n",
    "\n",
    "f.show()\n",
    "f2.show()"
   ]
  },
  {
   "cell_type": "markdown",
   "metadata": {},
   "source": [
    "## Часть 2\n",
    "\n",
    "В данном задании мы рассмотрим набор данных об учащихся, собранный в 2006 году в одной из школ Португалии. Данные представлены в неудобном для машинного обучения виде, и содержат мусор. Ваша задача &mdash; привести их к надлежащему виду и обучить на них простую модель.\n",
    "\n",
    "**Внимание!** Хотя исходные данные для этого задания можно найти в интернете, делать это запрещается. Вся необходимая информация о данных содержится в задании.\n",
    "\n",
    "Данные состоят из четырех файлов:\n",
    "- data.csv &mdash; основная таблица с информацией о учащихся\n",
    "- scores.csv &mdash; список финальных оценок по одному из предметов (20-балльная шкала переведенная в проценты)\n",
    "- attendance.csv &mdash; таблица посещений занятий по этому предмету\n",
    "- school_support.txt &mdash; список учащихся, которым оказывается финансовая поддержка\n",
    "\n",
    "Ваша задача &mdash; построить модель для предсказания финальных оценок исходя из всех остальных данных. В качестве алгоритма мы будем использовать линейную регрессию, ак ачество будем измерять по метрике RMSE.\n",
    "\n",
    "Расшифровка столбцов в data.csv для справки:\n",
    "- age &mdash; возраст\n",
    "- Medu &mdash; уровень образования матери (по некоторой условной шкале)\n",
    "- Fedu &mdash; уровень образования отца (по некоторой условной шкале)\n",
    "- traveltime &mdash; время в пути до школы (1 – < 15 мин., 2 – от 15 до 30 мин., 3 – от 30 мин. to 1 ч.\n",
    "или 4 – > 1 ч.)\n",
    "- studytime &mdash; время, затрачиваемое на занятия вне школы (1 – < 2 ч., 2 – от 2 до 5 ч., 3 – от 5 до 10 ч. или 4 – > 10 ч.)\n",
    "- famrel &mdash; насколько хорошие отношения в семье у учащегося (по некоторой условной шкале)\n",
    "- freetime &mdash; количество свободного времени вне школы (по некоторой условной шкале)\n",
    "- goout &mdash; время, затрачиваемое на общение с друзьями (по некоторой условной шкале)\n",
    "- Dalc &mdash; количество употребления алкоголя в учебные дни (по некоторой условной шкале)\n",
    "- Walc &mdash; количество употребления алкоголя в неучебные дни (по некоторой условной шкале)\n",
    "- health &mdash; уровень здоровья (по некоторой условной шкале)\n",
    "- sex_M &mdash; пол: мужской (1) или женский (0)\n",
    "- address_U &mdash; живет ли учащийся в городе (1) или в пригороде (0)\n",
    "- famsize_LE3 &mdash; размер семьи: не больше 3 человек (1) или больше (0)\n",
    "- Pstatus_T &mdash; живут ли родители вместе (1) или отдельно (0)\n",
    "- nursery &mdash; посещал ли учащийся детский сад\n",
    "- plans_university &mdash; планирует ли учащийся поступать в университет (-1 или 1)\n",
    "- past_failures &mdash; количество неудовлетворительных оценок по другим предметам ранее (от 0 до 4)"
   ]
  },
  {
   "cell_type": "markdown",
   "metadata": {},
   "source": [
    "### Задача 1: пропуски в данных \n",
    "__(0.5 балла)__\n",
    "\n",
    "Загрузите таблицу data.csv. Проверьте, есть ли в ней пропуски (значения NaN). Замените все пропущенные значения на среднее значение этого признака по столбцу.\n",
    "\n",
    "*Hint: изучите в pandas функции loc, isnull, а также передачу булевых массивов в качестве индексов.*"
   ]
  },
  {
   "cell_type": "code",
   "execution_count": 12,
   "metadata": {},
   "outputs": [
    {
     "data": {
      "text/html": [
       "<div>\n",
       "<style>\n",
       "    .dataframe thead tr:only-child th {\n",
       "        text-align: right;\n",
       "    }\n",
       "\n",
       "    .dataframe thead th {\n",
       "        text-align: left;\n",
       "    }\n",
       "\n",
       "    .dataframe tbody tr th {\n",
       "        vertical-align: top;\n",
       "    }\n",
       "</style>\n",
       "<table border=\"1\" class=\"dataframe\">\n",
       "  <thead>\n",
       "    <tr style=\"text-align: right;\">\n",
       "      <th></th>\n",
       "      <th>age</th>\n",
       "      <th>Medu</th>\n",
       "      <th>Fedu</th>\n",
       "      <th>traveltime</th>\n",
       "      <th>studytime</th>\n",
       "      <th>famrel</th>\n",
       "      <th>freetime</th>\n",
       "      <th>goout</th>\n",
       "      <th>Dalc</th>\n",
       "      <th>Walc</th>\n",
       "      <th>health</th>\n",
       "      <th>sex_M</th>\n",
       "      <th>address_U</th>\n",
       "      <th>famsize_LE3</th>\n",
       "      <th>Pstatus_T</th>\n",
       "      <th>nursery</th>\n",
       "      <th>plans_universitypast_failures</th>\n",
       "    </tr>\n",
       "  </thead>\n",
       "  <tbody>\n",
       "    <tr>\n",
       "      <th>0</th>\n",
       "      <td>16</td>\n",
       "      <td>4</td>\n",
       "      <td>4</td>\n",
       "      <td>1</td>\n",
       "      <td>2</td>\n",
       "      <td>5</td>\n",
       "      <td>4</td>\n",
       "      <td>4.0</td>\n",
       "      <td>1.0</td>\n",
       "      <td>2.0</td>\n",
       "      <td>5</td>\n",
       "      <td>1</td>\n",
       "      <td>1</td>\n",
       "      <td>0</td>\n",
       "      <td>1</td>\n",
       "      <td>1</td>\n",
       "      <td>10</td>\n",
       "    </tr>\n",
       "    <tr>\n",
       "      <th>1</th>\n",
       "      <td>17</td>\n",
       "      <td>4</td>\n",
       "      <td>4</td>\n",
       "      <td>1</td>\n",
       "      <td>1</td>\n",
       "      <td>5</td>\n",
       "      <td>3</td>\n",
       "      <td>4.0</td>\n",
       "      <td>1.0</td>\n",
       "      <td>2.0</td>\n",
       "      <td>5</td>\n",
       "      <td>0</td>\n",
       "      <td>1</td>\n",
       "      <td>0</td>\n",
       "      <td>1</td>\n",
       "      <td>1</td>\n",
       "      <td>10</td>\n",
       "    </tr>\n",
       "    <tr>\n",
       "      <th>2</th>\n",
       "      <td>16</td>\n",
       "      <td>1</td>\n",
       "      <td>1</td>\n",
       "      <td>2</td>\n",
       "      <td>1</td>\n",
       "      <td>4</td>\n",
       "      <td>5</td>\n",
       "      <td>5.0</td>\n",
       "      <td>2.0</td>\n",
       "      <td>4.0</td>\n",
       "      <td>5</td>\n",
       "      <td>1</td>\n",
       "      <td>0</td>\n",
       "      <td>1</td>\n",
       "      <td>1</td>\n",
       "      <td>1</td>\n",
       "      <td>10</td>\n",
       "    </tr>\n",
       "    <tr>\n",
       "      <th>3</th>\n",
       "      <td>18</td>\n",
       "      <td>1</td>\n",
       "      <td>2</td>\n",
       "      <td>2</td>\n",
       "      <td>1</td>\n",
       "      <td>3</td>\n",
       "      <td>4</td>\n",
       "      <td>4.0</td>\n",
       "      <td>2.0</td>\n",
       "      <td>4.0</td>\n",
       "      <td>4</td>\n",
       "      <td>1</td>\n",
       "      <td>1</td>\n",
       "      <td>0</td>\n",
       "      <td>1</td>\n",
       "      <td>0</td>\n",
       "      <td>-10</td>\n",
       "    </tr>\n",
       "    <tr>\n",
       "      <th>4</th>\n",
       "      <td>17</td>\n",
       "      <td>2</td>\n",
       "      <td>1</td>\n",
       "      <td>2</td>\n",
       "      <td>2</td>\n",
       "      <td>4</td>\n",
       "      <td>2</td>\n",
       "      <td>5.0</td>\n",
       "      <td>1.0</td>\n",
       "      <td>2.0</td>\n",
       "      <td>5</td>\n",
       "      <td>0</td>\n",
       "      <td>0</td>\n",
       "      <td>0</td>\n",
       "      <td>1</td>\n",
       "      <td>1</td>\n",
       "      <td>10</td>\n",
       "    </tr>\n",
       "  </tbody>\n",
       "</table>\n",
       "</div>"
      ],
      "text/plain": [
       "   age  Medu  Fedu  traveltime  studytime  famrel  freetime  goout  Dalc  \\\n",
       "0   16     4     4           1          2       5         4    4.0   1.0   \n",
       "1   17     4     4           1          1       5         3    4.0   1.0   \n",
       "2   16     1     1           2          1       4         5    5.0   2.0   \n",
       "3   18     1     2           2          1       3         4    4.0   2.0   \n",
       "4   17     2     1           2          2       4         2    5.0   1.0   \n",
       "\n",
       "   Walc  health  sex_M  address_U  famsize_LE3  Pstatus_T  nursery  \\\n",
       "0   2.0       5      1          1            0          1        1   \n",
       "1   2.0       5      0          1            0          1        1   \n",
       "2   4.0       5      1          0            1          1        1   \n",
       "3   4.0       4      1          1            0          1        0   \n",
       "4   2.0       5      0          0            0          1        1   \n",
       "\n",
       "   plans_universitypast_failures  \n",
       "0                             10  \n",
       "1                             10  \n",
       "2                             10  \n",
       "3                            -10  \n",
       "4                             10  "
      ]
     },
     "execution_count": 12,
     "metadata": {},
     "output_type": "execute_result"
    }
   ],
   "source": [
    "# Your code here\n",
    "# ...\n",
    "\n",
    "import pandas as pd\n",
    "data = pd.read_csv('data.csv', nrows = 648)\n",
    "data.head()#"
   ]
  },
  {
   "cell_type": "code",
   "execution_count": 13,
   "metadata": {},
   "outputs": [
    {
     "data": {
      "text/plain": [
       "False"
      ]
     },
     "execution_count": 13,
     "metadata": {},
     "output_type": "execute_result"
    }
   ],
   "source": [
    "\n",
    "data['Medu'].isnull().values.any()#"
   ]
  },
  {
   "cell_type": "code",
   "execution_count": 14,
   "metadata": {
    "collapsed": true
   },
   "outputs": [],
   "source": [
    "for d in range(len(data)):\n",
    "    if pd.isnull(data.loc[d, 'Walc'])==True:\n",
    "        data.loc[d,'Walc'] = data['Walc'].mean()"
   ]
  },
  {
   "cell_type": "code",
   "execution_count": 15,
   "metadata": {
    "collapsed": true
   },
   "outputs": [],
   "source": [
    "data_copy = data.copy()#"
   ]
  },
  {
   "cell_type": "markdown",
   "metadata": {},
   "source": [
    "### Задача 2: кросс-валидация для исходных данных\n",
    "__(0.5 балла)__\n",
    "\n",
    "Загрузите файл scores.csv и протестируйте, как линейная регрессия предсказывает ответ сейчас (с помощью кросс-валидации).\n",
    "\n",
    "*Hint: воспользуйтесь sklearn.linear_model и sklearn.model_selection.*"
   ]
  },
  {
   "cell_type": "code",
   "execution_count": 16,
   "metadata": {},
   "outputs": [],
   "source": [
    "# Your code here\n",
    "# ...\n",
    "from sklearn.linear_model import LinearRegression\n",
    "from sklearn import model_selection\n",
    "from sklearn.model_selection import train_test_split\n",
    "scores = pd.read_csv('scores.csv', nrows = 648)"
   ]
  },
  {
   "cell_type": "code",
   "execution_count": null,
   "metadata": {
    "collapsed": true
   },
   "outputs": [],
   "source": []
  },
  {
   "cell_type": "code",
   "execution_count": null,
   "metadata": {},
   "outputs": [],
   "source": [
    "\n"
   ]
  },
  {
   "cell_type": "markdown",
   "metadata": {},
   "source": [
    "### Задача 3: полные данные\n",
    "__(1 балл)__\n",
    "\n",
    "Воспользуйтесь файлами attendance.csv и school_support.txt для того, чтобы добавить новые признаки в данные. Желательно по максимуму использовать возможности pandas для упрощения преобразований."
   ]
  },
  {
   "cell_type": "code",
   "execution_count": 17,
   "metadata": {
    "collapsed": true
   },
   "outputs": [],
   "source": [
    "# Your code here\n",
    "# ...\n",
    "attendance = pd.read_csv('attendance.csv', sep = ';', nrows = 648)"
   ]
  },
  {
   "cell_type": "markdown",
   "metadata": {},
   "source": [
    "### Задача 4: сломанный признак\n",
    "__(0.5 балла)__\n",
    "\n",
    "Найдите в данных сломанный признак (он не соответствует описанию) и исправьте его."
   ]
  },
  {
   "cell_type": "code",
   "execution_count": 18,
   "metadata": {
    "collapsed": true
   },
   "outputs": [],
   "source": [
    "# Your code here\n",
    "# ..."
   ]
  },
  {
   "cell_type": "markdown",
   "metadata": {},
   "source": [
    "### Задача 5: борьба с выбросами\n",
    "__(1.5 балла)__\n",
    "\n",
    "Качество предсказания может ухудшаться, если в данных присутствуют корректные значения признаков (с точки зрения чтения данных и применения методов), но не соответствующие реальным объектам. Например, данные могли быть введены в неверном формате, а потом слишком грубо приведены к общему виду, из-за чего ошибка не была замечена.\n",
    "Попробуем от такого избавиться &mdash; а для этого такие объекты нужно сначала найти. Конечно, нам еще недоступны многие продвинутые способы, но давайте попробуем обойтись простыми.\n",
    "\n",
    "Первый способ это сделать &mdash; посмотреть для каждого признака на распределение его значений и проверить крайние значения на правдоподобность.\n",
    "\n",
    "*Hint 1: используйте функцию DataFrame.hist*\n",
    "\n",
    "*Hint 2: в описании датасета выше есть информация, необходимая для восстановления правильных значений*"
   ]
  },
  {
   "cell_type": "code",
   "execution_count": 19,
   "metadata": {
    "collapsed": true
   },
   "outputs": [],
   "source": [
    "# Your code here\n",
    "# ..."
   ]
  },
  {
   "cell_type": "markdown",
   "metadata": {},
   "source": [
    "Другой простой способ найти выбросы &mdash; сделать предсказание на всех объектах и посмотреть на объекты с наибольшей ошибкой. Обратите внимание, что просто удалять все объекты с высокой ошибкой нельзя &mdash; это, конечно, хороший способ добиться меньшей ошибки (на данной выборке), но одновременно вы ухудшите обобщающую способность алгоритма. Вместо этого вам нужно найти однозначно ошибочные записи и их исправить.\n",
    "\n",
    "*Hint: возможно, все проблемы уже были найдены в прошлом пункте; для проверки &mdash; в обоих пунктах в сумме нужно исправить 3 проблемы.*"
   ]
  },
  {
   "cell_type": "code",
   "execution_count": 20,
   "metadata": {
    "collapsed": true
   },
   "outputs": [],
   "source": [
    "# Your code here\n",
    "# ..."
   ]
  },
  {
   "cell_type": "markdown",
   "metadata": {},
   "source": [
    "### Финальное предсказание\n",
    "\n",
    "Проведите предсказание еще раз и сравните результат с исходным."
   ]
  },
  {
   "cell_type": "code",
   "execution_count": 21,
   "metadata": {
    "collapsed": true
   },
   "outputs": [],
   "source": [
    "# Your code here\n",
    "# ..."
   ]
  }
 ],
 "metadata": {
  "anaconda-cloud": {},
  "kernelspec": {
   "display_name": "Python 3",
   "language": "python",
   "name": "python3"
  },
  "language_info": {
   "codemirror_mode": {
    "name": "ipython",
    "version": 3
   },
   "file_extension": ".py",
   "mimetype": "text/x-python",
   "name": "python",
   "nbconvert_exporter": "python",
   "pygments_lexer": "ipython3",
   "version": "3.6.3"
  }
 },
 "nbformat": 4,
 "nbformat_minor": 2
}
